{
 "cells": [
  {
   "cell_type": "markdown",
   "metadata": {},
   "source": [
    "# Stone_Paper_Scissor"
   ]
  },
  {
   "cell_type": "code",
   "execution_count": 1,
   "metadata": {},
   "outputs": [],
   "source": [
    "# this is about the simple game ..Stone_Paper_Scissor"
   ]
  },
  {
   "cell_type": "code",
   "execution_count": null,
   "metadata": {},
   "outputs": [],
   "source": [
    "from random import randint    # this library is used for random option\n",
    "# Now, we have to creat a list of option in this game\n",
    "\n",
    "game = [\"Stone\",\"Paper\",\"Scissors\"]\n",
    "\n",
    "#assign a random play to the computer\n",
    "computer = game[randint(0,2)]\n",
    "\n",
    "#set player to False\n",
    "player = False\n",
    "\n",
    "while player == False:   #When player is equal to False\n",
    "    player = input(\"Stone, Paper, Scissors?\")\n",
    "    if player == computer:\n",
    "        print(\"Tie!\")\n",
    "    elif player == \"Stone\":\n",
    "        if computer == \"Paper\":\n",
    "            print(\"Oops! You lose!\", computer, \"covers\" ,player)\n",
    "        else:\n",
    "            print(\"Hurrah! You win!\" , player,\"smashes\",computer)\n",
    "    if player == \"Paper\":\n",
    "        if computer == \"Scissors\":\n",
    "            print(\"Oops! You lose!\", computer,\"cuts\" ,player)\n",
    "        else:\n",
    "            print(\"Hurrah! You win!\",player, \"covers\", computer)\n",
    "    if player == \"Scissors\":\n",
    "        if computer == \"Stone\":\n",
    "            print(\"Haww! You lose!\", computer,\"smashes\" ,player)\n",
    "        else:\n",
    "            print(\"WoW! You win!\",player, \"covers\", computer)\n",
    "    else:\n",
    "        print(\"Check your spelling please!\")\n",
    "    player = False\n",
    "    computer = game[randint(0,2)]\n",
    "\n",
    "    "
   ]
  },
  {
   "cell_type": "code",
   "execution_count": null,
   "metadata": {},
   "outputs": [],
   "source": [
    "\n"
   ]
  }
 ],
 "metadata": {
  "kernelspec": {
   "display_name": "Python 3",
   "language": "python",
   "name": "python3"
  },
  "language_info": {
   "codemirror_mode": {
    "name": "ipython",
    "version": 3
   },
   "file_extension": ".py",
   "mimetype": "text/x-python",
   "name": "python",
   "nbconvert_exporter": "python",
   "pygments_lexer": "ipython3",
   "version": "3.7.4"
  }
 },
 "nbformat": 4,
 "nbformat_minor": 2
}
